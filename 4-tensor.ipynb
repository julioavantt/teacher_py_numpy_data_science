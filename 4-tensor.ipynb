{
 "cells": [
  {
   "cell_type": "markdown",
   "id": "6bf22669",
   "metadata": {},
   "source": [
    "### Tensor (3D)"
   ]
  },
  {
   "cell_type": "code",
   "execution_count": null,
   "id": "c2ebadce",
   "metadata": {},
   "outputs": [],
   "source": [
    "import numpy as np"
   ]
  },
  {
   "cell_type": "code",
   "execution_count": null,
   "id": "c4c9a952",
   "metadata": {},
   "outputs": [],
   "source": [
    "tensor_3d = np.array([\n",
    "    [[1, 2, 3],\n",
    "     [4, 5, 6]],      \n",
    "\n",
    "    [[7, 8, 9],\n",
    "     [10, 11, 12]]\n",
    "])\n",
    "\n",
    "print(tensor_3d)\n",
    "print()\n",
    "print(\"Forma: \", tensor_3d.shape, \": 2 capas, 2 filas, 3 elementos\")  \n",
    "print(\"Dimensiones:\", tensor_3d.ndim) "
   ]
  },
  {
   "cell_type": "markdown",
   "id": "60083d06",
   "metadata": {},
   "source": [
    "##### Acceso a elementos"
   ]
  },
  {
   "cell_type": "code",
   "execution_count": null,
   "id": "b82bbb7b",
   "metadata": {},
   "outputs": [],
   "source": [
    "tensor_3d = np.array([\n",
    "    [[1, 2, 3], # Primera capa\n",
    "     [4, 5, 6]],          \n",
    "\n",
    "    [[7, 8, 9], # Segunda capa\n",
    "     [10, 11, 12]]\n",
    "])\n",
    "\n",
    "print(tensor_3d[1,1,2])  # Accede al elemento en la segunda capa, segunda fila, tercera columna (índices 1, 1, 2)\n",
    "print(tensor_3d[1,1,1::]) "
   ]
  }
 ],
 "metadata": {
  "kernelspec": {
   "display_name": ".venv (3.10.12)",
   "language": "python",
   "name": "python3"
  },
  "language_info": {
   "codemirror_mode": {
    "name": "ipython",
    "version": 3
   },
   "file_extension": ".py",
   "mimetype": "text/x-python",
   "name": "python",
   "nbconvert_exporter": "python",
   "pygments_lexer": "ipython3",
   "version": "3.10.12"
  }
 },
 "nbformat": 4,
 "nbformat_minor": 5
}
