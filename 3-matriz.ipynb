{
 "cells": [
  {
   "cell_type": "markdown",
   "id": "134a59e7",
   "metadata": {},
   "source": [
    "### Matriz (2D array)"
   ]
  },
  {
   "cell_type": "code",
   "execution_count": null,
   "id": "7f13888a",
   "metadata": {},
   "outputs": [],
   "source": [
    "import numpy as np"
   ]
  },
  {
   "cell_type": "code",
   "execution_count": null,
   "id": "1f8bb7dd",
   "metadata": {},
   "outputs": [],
   "source": [
    "matriz = np.array([[1, 8, 10],\n",
    "                   [7, 2, 9]])\n",
    "\n",
    "print(\"Matriz: \\n\", matriz)\n",
    "print()\n",
    "print(\"Tamaño (cantidad de elementos):\", matriz.size)\n",
    "print(\"Dimensiones:\", matriz.ndim)\n",
    "print(\"Forma:\", matriz.shape, \"2 filas, 3 columnas\") \n",
    "print(\"Tipo de dato:\", type(matriz))\n",
    "print(\"Tipo de dtype (datatype de almacenamiento):\", matriz.dtype)\n",
    "print()\n",
    "print(\"\"\"\n",
    "Columnas →   0    1    2\n",
    "Filas   0 [  1    8   10  ]\n",
    "        1 [  7    2    9  ]\"\"\")"
   ]
  }
 ],
 "metadata": {
  "kernelspec": {
   "display_name": ".venv (3.10.12)",
   "language": "python",
   "name": "python3"
  },
  "language_info": {
   "codemirror_mode": {
    "name": "ipython",
    "version": 3
   },
   "file_extension": ".py",
   "mimetype": "text/x-python",
   "name": "python",
   "nbconvert_exporter": "python",
   "pygments_lexer": "ipython3",
   "version": "3.10.12"
  }
 },
 "nbformat": 4,
 "nbformat_minor": 5
}
