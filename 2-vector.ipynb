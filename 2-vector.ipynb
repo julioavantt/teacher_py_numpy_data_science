{
 "cells": [
  {
   "cell_type": "markdown",
   "id": "134a59e7",
   "metadata": {},
   "source": [
    "### Vector (1D array)"
   ]
  },
  {
   "cell_type": "code",
   "execution_count": null,
   "id": "7f13888a",
   "metadata": {},
   "outputs": [],
   "source": [
    "import numpy as np                               "
   ]
  },
  {
   "cell_type": "code",
   "execution_count": null,
   "id": "1f8bb7dd",
   "metadata": {},
   "outputs": [],
   "source": [
    "vector = np.array([1,8,10])\n",
    "\n",
    "print(\"Vector: \\n\", vector)\n",
    "print()\n",
    "print(\"Tamaño (cantidad de elementos incluidos):\", vector.size)\n",
    "print(\"Dimensiones:\", vector.ndim)\n",
    "print(\"Forma:\", vector.shape, \"1 dimensión, 3 elementos\") \n",
    "print(\"Tipo de dato:\", type(vector))\n",
    "print(\"Tipo de dtype (datatype de almacenamiento):\", vector.dtype)"
   ]
  },
  {
   "cell_type": "markdown",
   "id": "9426d766",
   "metadata": {},
   "source": [
    "##### Cambiar el dtype"
   ]
  },
  {
   "cell_type": "code",
   "execution_count": null,
   "id": "13264474",
   "metadata": {},
   "outputs": [],
   "source": [
    "vector = np.array([1,8,10])\n",
    "print(\"Tipo de dtype (datatype de almacenamiento):\", vector.dtype)\n",
    "\n",
    "vector = np.array(vector, dtype=np.int8) # Cambia el tipo de dato a int8\n",
    "print(\"Tipo de dtype (datatype de almacenamiento):\", vector.dtype)"
   ]
  }
 ],
 "metadata": {
  "kernelspec": {
   "display_name": ".venv (3.10.12)",
   "language": "python",
   "name": "python3"
  },
  "language_info": {
   "codemirror_mode": {
    "name": "ipython",
    "version": 3
   },
   "file_extension": ".py",
   "mimetype": "text/x-python",
   "name": "python",
   "nbconvert_exporter": "python",
   "pygments_lexer": "ipython3",
   "version": "3.10.12"
  }
 },
 "nbformat": 4,
 "nbformat_minor": 5
}
