{
 "cells": [
  {
   "cell_type": "markdown",
   "id": "52a7d35d",
   "metadata": {},
   "source": [
    "### Empty arrays"
   ]
  },
  {
   "cell_type": "code",
   "execution_count": 1,
   "id": "48bf17a9",
   "metadata": {},
   "outputs": [],
   "source": [
    "import numpy as np"
   ]
  },
  {
   "cell_type": "markdown",
   "id": "f87dfec4",
   "metadata": {},
   "source": [
    "#### Zeros"
   ]
  },
  {
   "cell_type": "code",
   "execution_count": 6,
   "id": "f009b6cb",
   "metadata": {},
   "outputs": [
    {
     "name": "stdout",
     "output_type": "stream",
     "text": [
      "[0. 0. 0. 0. 0.]\n",
      "\n",
      "[[0. 0. 0. 0.]\n",
      " [0. 0. 0. 0.]\n",
      " [0. 0. 0. 0.]]\n",
      "\n",
      "0.0\n"
     ]
    }
   ],
   "source": [
    "vector = np.zeros(5) # Vector de 5 ceros decimales\n",
    "print(vector)\n",
    "print()\n",
    "\n",
    "matriz = np.zeros((3,4)) # Matriz de 3 filas y 4 columnas de ceros decimales\n",
    "print(matriz)\n",
    "\n",
    "print()\n",
    "print(matriz[1,1])"
   ]
  },
  {
   "cell_type": "markdown",
   "id": "fb191da7",
   "metadata": {},
   "source": [
    "##### Ones"
   ]
  },
  {
   "cell_type": "code",
   "execution_count": 7,
   "id": "364c4d0b",
   "metadata": {},
   "outputs": [
    {
     "name": "stdout",
     "output_type": "stream",
     "text": [
      "[1. 1. 1. 1. 1.]\n",
      "\n",
      "[[1. 1. 1. 1.]\n",
      " [1. 1. 1. 1.]\n",
      " [1. 1. 1. 1.]]\n"
     ]
    }
   ],
   "source": [
    "vector = np.ones(5) # Vector de 5 números uno decimales\n",
    "print(vector)\n",
    "print()\n",
    "\n",
    "matriz = np.ones((3,4)) # Matriz de 3 filas y 4 columnas de números uno decimales\n",
    "print(matriz)"
   ]
  }
 ],
 "metadata": {
  "kernelspec": {
   "display_name": ".venv (3.10.12)",
   "language": "python",
   "name": "python3"
  },
  "language_info": {
   "codemirror_mode": {
    "name": "ipython",
    "version": 3
   },
   "file_extension": ".py",
   "mimetype": "text/x-python",
   "name": "python",
   "nbconvert_exporter": "python",
   "pygments_lexer": "ipython3",
   "version": "3.10.12"
  }
 },
 "nbformat": 4,
 "nbformat_minor": 5
}
