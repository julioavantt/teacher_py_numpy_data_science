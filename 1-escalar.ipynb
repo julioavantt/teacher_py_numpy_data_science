{
 "cells": [
  {
   "cell_type": "markdown",
   "id": "978ce5ed",
   "metadata": {},
   "source": [
    "### Scalar (array de cero dimensiones)\n",
    "\n",
    "Un scalar en NumPy es un array de 0 dimensiones, pero se usa y se comporta como un valor escalar."
   ]
  },
  {
   "cell_type": "code",
   "execution_count": null,
   "id": "ca7bf003",
   "metadata": {},
   "outputs": [],
   "source": [
    "# Instalar biblioteca NumPy\n",
    "\n",
    "pip install numpy"
   ]
  },
  {
   "cell_type": "code",
   "execution_count": null,
   "id": "d1a4dbb8",
   "metadata": {},
   "outputs": [],
   "source": [
    "import numpy as np"
   ]
  },
  {
   "cell_type": "code",
   "execution_count": null,
   "id": "3ae55845",
   "metadata": {},
   "outputs": [],
   "source": [
    "escalar = np.array(5)\n",
    "\n",
    "print(\"Escalar: \", escalar)\n",
    "print(\"Tamaño: \", escalar.size)\n",
    "print(\"Dimensiones: \", escalar.ndim)\n",
    "print(\"Tipo de dato:\", type(escalar))"
   ]
  },
  {
   "cell_type": "markdown",
   "id": "b7cf7bc6",
   "metadata": {},
   "source": [
    "##### Usos\n",
    "Garantizan operaciones consistentes, predecibles y eficientes en un sistema de arrays multidimensionales."
   ]
  },
  {
   "cell_type": "code",
   "execution_count": null,
   "id": "130ae878",
   "metadata": {},
   "outputs": [],
   "source": [
    "cinco = np.array(5)\n",
    "arr = np.array([1, 2, 3, 4])\n",
    "print(arr * cinco)"
   ]
  }
 ],
 "metadata": {
  "kernelspec": {
   "display_name": ".venv (3.10.12)",
   "language": "python",
   "name": "python3"
  },
  "language_info": {
   "codemirror_mode": {
    "name": "ipython",
    "version": 3
   },
   "file_extension": ".py",
   "mimetype": "text/x-python",
   "name": "python",
   "nbconvert_exporter": "python",
   "pygments_lexer": "ipython3",
   "version": "3.10.12"
  }
 },
 "nbformat": 4,
 "nbformat_minor": 5
}
