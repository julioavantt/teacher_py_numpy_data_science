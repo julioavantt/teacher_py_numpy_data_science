{
 "cells": [
  {
   "cell_type": "markdown",
   "id": "a5216f0a",
   "metadata": {},
   "source": [
    "### Random"
   ]
  },
  {
   "cell_type": "code",
   "execution_count": null,
   "id": "087a3ae6",
   "metadata": {},
   "outputs": [],
   "source": [
    "from numpy import random"
   ]
  },
  {
   "cell_type": "markdown",
   "id": "0bb852f1",
   "metadata": {},
   "source": [
    "##### randint"
   ]
  },
  {
   "cell_type": "code",
   "execution_count": null,
   "id": "435ca582",
   "metadata": {},
   "outputs": [],
   "source": [
    "for i in range(10):\n",
    "    numero_aleatorio = random.randint(100) # Genera un número aleatorio entre 0 y 99\n",
    "    print(numero_aleatorio)"
   ]
  },
  {
   "cell_type": "code",
   "execution_count": null,
   "id": "c50f4a15",
   "metadata": {},
   "outputs": [],
   "source": [
    "vector_aleatorio = random.randint(100, size=(5)) # Vector de 5 números aleatorios entre 0 y 99\n",
    "print(vector_aleatorio)\n",
    "print()\n",
    "\n",
    "matriz_aleatoria = random.randint(100, size=(5,4)) # Matriz aleatoria de 5 filas y 4 columnas\n",
    "print(matriz_aleatoria)\n",
    "print()"
   ]
  },
  {
   "cell_type": "markdown",
   "id": "b6080864",
   "metadata": {},
   "source": [
    "##### rand"
   ]
  },
  {
   "cell_type": "code",
   "execution_count": null,
   "id": "6c5c9d57",
   "metadata": {},
   "outputs": [],
   "source": [
    "numero_rand = random.rand() # Genera un número aleatorio entre 0 y 1 con decimales\n",
    "print(numero_rand)"
   ]
  },
  {
   "cell_type": "code",
   "execution_count": null,
   "id": "2def6741",
   "metadata": {},
   "outputs": [],
   "source": [
    "vector_rand = random.rand(5) # Vector de 5 números aleatorios entre 0 y 1 con decimales\n",
    "print(vector_rand)"
   ]
  },
  {
   "cell_type": "markdown",
   "id": "aec1005a",
   "metadata": {},
   "source": [
    "##### choice"
   ]
  },
  {
   "cell_type": "code",
   "execution_count": null,
   "id": "b21ec5a8",
   "metadata": {},
   "outputs": [],
   "source": [
    "meses = [\"Enero\", \"Febrero\", \"Marzo\", \"Abril\", \"Mayo\", \"Junio\", \"Julio\", \"Agosto\", \"Septiembre\", \"Octubre\", \"Noviembre\", \"Diciembre\"]\n",
    "\n",
    "print(random.choice(meses)) # Selecciona un mes aleatorio\n",
    "print(random.choice(meses, size=(3))) # Selecciona 3 meses aleatorios"
   ]
  }
 ],
 "metadata": {
  "kernelspec": {
   "display_name": ".venv (3.10.12)",
   "language": "python",
   "name": "python3"
  },
  "language_info": {
   "codemirror_mode": {
    "name": "ipython",
    "version": 3
   },
   "file_extension": ".py",
   "mimetype": "text/x-python",
   "name": "python",
   "nbconvert_exporter": "python",
   "pygments_lexer": "ipython3",
   "version": "3.10.12"
  }
 },
 "nbformat": 4,
 "nbformat_minor": 5
}
