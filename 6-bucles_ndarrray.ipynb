{
 "cells": [
  {
   "cell_type": "markdown",
   "id": "fd79c9c0",
   "metadata": {},
   "source": [
    "### Bucles"
   ]
  },
  {
   "cell_type": "code",
   "execution_count": null,
   "id": "5c44c80d",
   "metadata": {},
   "outputs": [],
   "source": [
    "import numpy as np"
   ]
  },
  {
   "cell_type": "code",
   "execution_count": null,
   "id": "316aa2c2",
   "metadata": {},
   "outputs": [],
   "source": [
    "tensor = np.array(\n",
    "    [[[1, 2, 3],\n",
    "     [4, 5, 6]],\n",
    "\n",
    "     [[7, 8, 9],\n",
    "     [10, 11, 12]]]                              \n",
    ")\n",
    "\n",
    "# Un bucle por cada dimensión\n",
    "\n",
    "for capa in tensor: \n",
    "    for fila in capa:\n",
    "        for elemento in fila:\n",
    "            print(elemento) "
   ]
  }
 ],
 "metadata": {
  "kernelspec": {
   "display_name": ".venv (3.10.12)",
   "language": "python",
   "name": "python3"
  },
  "language_info": {
   "codemirror_mode": {
    "name": "ipython",
    "version": 3
   },
   "file_extension": ".py",
   "mimetype": "text/x-python",
   "name": "python",
   "nbconvert_exporter": "python",
   "pygments_lexer": "ipython3",
   "version": "3.10.12"
  }
 },
 "nbformat": 4,
 "nbformat_minor": 5
}
