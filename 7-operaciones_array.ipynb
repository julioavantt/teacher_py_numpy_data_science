{
 "cells": [
  {
   "cell_type": "code",
   "execution_count": null,
   "id": "bd4edacb",
   "metadata": {},
   "outputs": [],
   "source": [
    "import numpy as np"
   ]
  },
  {
   "cell_type": "markdown",
   "id": "aea11fd0",
   "metadata": {},
   "source": [
    "##### Suma"
   ]
  },
  {
   "cell_type": "code",
   "execution_count": null,
   "id": "7783c202",
   "metadata": {},
   "outputs": [],
   "source": [
    "arr1 = np.array([1, 2, 3])\n",
    "arr2 = np.array([4, 5, 6])  \n",
    "\n",
    "suma = arr1 + arr2\n",
    "print(suma)"
   ]
  },
  {
   "cell_type": "markdown",
   "id": "10c4cf5b",
   "metadata": {},
   "source": [
    "##### Restar"
   ]
  },
  {
   "cell_type": "code",
   "execution_count": null,
   "id": "6861ffe4",
   "metadata": {},
   "outputs": [],
   "source": [
    "x = np.array([9, 10])\n",
    "y = np.array([4, 8])\n",
    "z = x - y\n",
    "print(z)"
   ]
  },
  {
   "cell_type": "markdown",
   "id": "5e526891",
   "metadata": {},
   "source": [
    "##### Multiplicar"
   ]
  },
  {
   "cell_type": "code",
   "execution_count": null,
   "id": "30c1a273",
   "metadata": {},
   "outputs": [],
   "source": [
    "x = np.array([2,3])\n",
    "y = x * 2\n",
    "print(y)"
   ]
  },
  {
   "cell_type": "markdown",
   "id": "5192dc4b",
   "metadata": {},
   "source": [
    "##### Dot product (devuelve un escalar)"
   ]
  },
  {
   "cell_type": "code",
   "execution_count": null,
   "id": "df587d99",
   "metadata": {},
   "outputs": [],
   "source": [
    "x = np.array([1, 2, 3])\n",
    "y = np.array([4, 5, 6])\n",
    "z = x @ y\n",
    "print(z, \"-> es 1*4   +   2*5   +  3*6\")"
   ]
  },
  {
   "cell_type": "markdown",
   "id": "fb7710ca",
   "metadata": {},
   "source": [
    "##### Agregar constante"
   ]
  },
  {
   "cell_type": "code",
   "execution_count": null,
   "id": "a5d030ee",
   "metadata": {},
   "outputs": [],
   "source": [
    "y = np.array([4, 5, 6])\n",
    "z = y + 1\n",
    "print(z)"
   ]
  },
  {
   "cell_type": "markdown",
   "id": "eb12a26e",
   "metadata": {},
   "source": [
    "##### Filtrar (indexación booleana)"
   ]
  },
  {
   "cell_type": "code",
   "execution_count": null,
   "id": "d160a10c",
   "metadata": {},
   "outputs": [],
   "source": [
    "matriz = np.array([[10, 20, 30], [40, 50, 60]])\n",
    "print(matriz[matriz > 30])  # Filtrar valores mayores a 30"
   ]
  },
  {
   "cell_type": "markdown",
   "id": "1c8c83ab",
   "metadata": {},
   "source": [
    "##### Slicing"
   ]
  },
  {
   "cell_type": "code",
   "execution_count": null,
   "id": "d19fd5e6",
   "metadata": {},
   "outputs": [],
   "source": [
    "vector = np.arange(30, 200) \n",
    "print(vector[40:100]) # Slicing desde el índice 40 hasta 99 \n",
    "print()\n",
    "print(vector[50:200:3]) # Slicing desde el índice 50 hasta 199 con paso 3"
   ]
  }
 ],
 "metadata": {
  "kernelspec": {
   "display_name": ".venv (3.10.12)",
   "language": "python",
   "name": "python3"
  },
  "language_info": {
   "codemirror_mode": {
    "name": "ipython",
    "version": 3
   },
   "file_extension": ".py",
   "mimetype": "text/x-python",
   "name": "python",
   "nbconvert_exporter": "python",
   "pygments_lexer": "ipython3",
   "version": "3.10.12"
  }
 },
 "nbformat": 4,
 "nbformat_minor": 5
}
