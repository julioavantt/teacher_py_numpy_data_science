{
 "cells": [
  {
   "cell_type": "code",
   "execution_count": null,
   "id": "0b0a04db",
   "metadata": {},
   "outputs": [],
   "source": [
    "import numpy as np"
   ]
  },
  {
   "cell_type": "markdown",
   "id": "dff4b8c9",
   "metadata": {},
   "source": [
    "##### reshape"
   ]
  },
  {
   "cell_type": "code",
   "execution_count": null,
   "id": "630fc176",
   "metadata": {},
   "outputs": [],
   "source": [
    "matriz = np.array(\n",
    "    [[1, 2, 3],\n",
    "     [4, 5, 6]],                              \n",
    ")\n",
    "\n",
    "print(\"Matriz original:\\n\", matriz)\n",
    "print()\n",
    "\n",
    "print(matriz.reshape(3, 2))  # Cambia la forma a 3 filas y 2 columnas"
   ]
  },
  {
   "cell_type": "markdown",
   "id": "25cca792",
   "metadata": {},
   "source": [
    "##### concatenate"
   ]
  },
  {
   "cell_type": "code",
   "execution_count": null,
   "id": "d8c233a0",
   "metadata": {},
   "outputs": [],
   "source": [
    "# 1D\n",
    "\n",
    "arr1 = np.array([0, 4, 5])\n",
    "arr2 = np.array([8, 14, 25])\n",
    "\n",
    "arr_concatenado = np.concatenate((arr1, arr2))\n",
    "print(\"Vector concatenado: \", arr_concatenado)\n",
    "print()\n",
    "\n",
    "# 2D\n",
    "\n",
    "matriz1 = np.array([[1, 2, 3], [4, 5, 6]])\n",
    "matriz2 = np.array([[7, 8, 9], [10, 11, 12]])       \n",
    "matriz_concatenada_filas = np.concatenate((matriz1, matriz2), axis=0)  \n",
    "print(\"Matriz concatenada por filas:\\n\", matriz_concatenada_filas)\n",
    "print()\n",
    "\n",
    "matriz_concatenada_columnas = np.concatenate((matriz1, matriz2), axis=1)  \n",
    "print(\"Matriz concatenada por columnas:\\n\", matriz_concatenada_columnas)"
   ]
  },
  {
   "cell_type": "markdown",
   "id": "6d8d50ec",
   "metadata": {},
   "source": [
    "##### array_split"
   ]
  },
  {
   "cell_type": "code",
   "execution_count": null,
   "id": "22d68551",
   "metadata": {},
   "outputs": [],
   "source": [
    "arr1 = np.array([0, 4, 5, 8, 14, 25])\n",
    "arr_dividido = np.array_split(arr1, 3)  # Dividir en 3 partes\n",
    "print(arr_dividido)"
   ]
  },
  {
   "cell_type": "markdown",
   "id": "e83c6d2d",
   "metadata": {},
   "source": [
    "##### where"
   ]
  },
  {
   "cell_type": "code",
   "execution_count": null,
   "id": "ba66afd7",
   "metadata": {},
   "outputs": [],
   "source": [
    "arr = np.array([10, 20, 30, 40, 50, 10])\n",
    "print(np.where(arr == 10))  # Indices donde el valor es 10"
   ]
  },
  {
   "cell_type": "markdown",
   "id": "75f2ca26",
   "metadata": {},
   "source": [
    "##### sort"
   ]
  },
  {
   "cell_type": "code",
   "execution_count": null,
   "id": "514f867a",
   "metadata": {},
   "outputs": [],
   "source": [
    "arr = np.array([100, 20, 30, 40, 10])\n",
    "print(arr.sort())  \n",
    "print(arr)"
   ]
  },
  {
   "cell_type": "markdown",
   "id": "16e236e2",
   "metadata": {},
   "source": [
    "##### arange"
   ]
  },
  {
   "cell_type": "code",
   "execution_count": null,
   "id": "d11e6e37",
   "metadata": {},
   "outputs": [],
   "source": [
    "arr = np.arange(10)  # Array con valores del 0 al 9\n",
    "print(arr)"
   ]
  },
  {
   "cell_type": "code",
   "execution_count": null,
   "id": "8250e23c",
   "metadata": {},
   "outputs": [],
   "source": [
    "arr = np.arange(10).reshape(2, 5)  # Cambiar la forma a 2 filas y 5 columnas\n",
    "print(arr)"
   ]
  },
  {
   "cell_type": "code",
   "execution_count": null,
   "id": "164e8d80",
   "metadata": {},
   "outputs": [],
   "source": [
    "arr = np.arange(10, 30, 3)  # Valores del 10 al 30 con paso de 3    \n",
    "print(arr)"
   ]
  },
  {
   "cell_type": "markdown",
   "id": "8d1173d4",
   "metadata": {},
   "source": [
    "##### linspace"
   ]
  },
  {
   "cell_type": "code",
   "execution_count": null,
   "id": "89534d54",
   "metadata": {},
   "outputs": [],
   "source": [
    "arr = np.linspace(0, 40, 15)  # 15 valores decimales equiespaciados entre 0 y 40\n",
    "print(arr)"
   ]
  },
  {
   "cell_type": "markdown",
   "id": "0e452b98",
   "metadata": {},
   "source": [
    "##### min y max"
   ]
  },
  {
   "cell_type": "code",
   "execution_count": null,
   "id": "5c003cd1",
   "metadata": {},
   "outputs": [],
   "source": [
    "arr = np.array([100, 20, 30, 40, 10])\n",
    "print(arr.min())  # Valor mínimo\n",
    "print(arr.max())  # Valor máximo"
   ]
  },
  {
   "cell_type": "code",
   "execution_count": null,
   "id": "4861ab60",
   "metadata": {},
   "outputs": [],
   "source": [
    "matriz = np.array([[1, 12, 3], [4, 5, 6]])   \n",
    "print(matriz) \n",
    "print()\n",
    "print(\"Mínimo por columnas: \", matriz.min(axis = 0))  \n",
    "print(\"Mínimo por filas: \", matriz.min(axis = 1))   "
   ]
  },
  {
   "cell_type": "markdown",
   "id": "875bacac",
   "metadata": {},
   "source": [
    "##### mean (promedio)"
   ]
  },
  {
   "cell_type": "code",
   "execution_count": null,
   "id": "36ac19c2",
   "metadata": {},
   "outputs": [],
   "source": [
    "arr = np.array([100, 20, 30, 40, 10])\n",
    "print(arr.mean())  # Promedio"
   ]
  },
  {
   "cell_type": "markdown",
   "id": "35aa28f0",
   "metadata": {},
   "source": [
    "##### std (distribución estandar)"
   ]
  },
  {
   "cell_type": "code",
   "execution_count": null,
   "id": "ac5736f0",
   "metadata": {},
   "outputs": [],
   "source": [
    "arr = np.array([100, 20, 30, 40, 10])\n",
    "print(arr.std())  "
   ]
  }
 ],
 "metadata": {
  "kernelspec": {
   "display_name": ".venv (3.10.12)",
   "language": "python",
   "name": "python3"
  },
  "language_info": {
   "codemirror_mode": {
    "name": "ipython",
    "version": 3
   },
   "file_extension": ".py",
   "mimetype": "text/x-python",
   "name": "python",
   "nbconvert_exporter": "python",
   "pygments_lexer": "ipython3",
   "version": "3.10.12"
  }
 },
 "nbformat": 4,
 "nbformat_minor": 5
}
